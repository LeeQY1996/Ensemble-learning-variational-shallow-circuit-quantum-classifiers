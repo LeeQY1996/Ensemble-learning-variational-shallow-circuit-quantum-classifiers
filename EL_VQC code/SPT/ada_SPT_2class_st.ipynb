{
 "cells": [
  {
   "cell_type": "code",
   "execution_count": 1,
   "metadata": {},
   "outputs": [
    {
     "data": {
      "text/plain": [
       "CuDevice(1): NVIDIA TITAN V"
      ]
     },
     "metadata": {},
     "output_type": "display_data"
    }
   ],
   "source": [
    "push!(LOAD_PATH,\"../../package/QuantumCircuits_demo/src\",\"../../package/VQC_demo_cuda/src\")\n",
    "using VQC\n",
    "using QuantumCircuits, QuantumCircuits.Gates\n",
    "using DelimitedFiles\n",
    "using Random\n",
    "using Flux.Optimise:ADAM,update!\n",
    "using Statistics\n",
    "using StatsBase\n",
    "using Zygote\n",
    "using Zygote: @adjoint\n",
    "using Base: @kwdef\n",
    "using Plots\n",
    "using CUDA\n",
    "using JLD2\n",
    "device!(1)"
   ]
  },
  {
   "cell_type": "code",
   "execution_count": 2,
   "metadata": {},
   "outputs": [
    {
     "data": {
      "text/plain": [
       "fresult (generic function with 1 method)"
      ]
     },
     "metadata": {},
     "output_type": "display_data"
    }
   ],
   "source": [
    "function build_circuit_xz(N,nlayer)\n",
    "    circuit = QCircuit()\n",
    "    for k in 1:nlayer\n",
    "        for j=1:N\n",
    "            push!(circuit, RxGate(j, rand(), isparas=true))\n",
    "            push!(circuit, RzGate(j, rand(), isparas=true))\n",
    "            push!(circuit, RxGate(j, rand(), isparas=true))\n",
    "        end \n",
    "        for j=1:N-1#div(N,2)\n",
    "            push!(circuit,CNOTGate(j,j+1))\n",
    "            #push!(circuit,CNOTGate(N+1-j,N-j) )\n",
    "        end\n",
    "    end\n",
    "    push!(circuit, RxGate(mq[1], rand(), isparas=true))\n",
    "    push!(circuit, RzGate(mq[1], rand(), isparas=true))\n",
    "    push!(circuit, RxGate(mq[1], rand(), isparas=true))\n",
    "    return circuit\n",
    "end\n",
    "\n",
    "\n",
    "function loss_util(circuit,data_batch,label_batch,w)\n",
    "    loss_value = 0.\n",
    "    out=circuit*data_batch\n",
    "    p01=real.(expectation(B[1],out))\n",
    "    L=length(p01)\n",
    "    p1=p01\n",
    "    p2=-p01.+1\n",
    "    loss_value -= dot(label_batch[1,:].*w,log.(p1))\n",
    "    loss_value -= dot(label_batch[2,:].*w,log.(p2))\n",
    "    return loss_value/L\n",
    "end\n",
    "\n",
    "\n",
    "function fprediction_util(circuit::QCircuit,data_set)#输出预测向量.\n",
    "    L=nitems(data_set)\n",
    "    preds=zeros(2,L)\n",
    "    x=circuit*data_set\n",
    "    p=real(expectation(B[1],x)) #测量第一个比特0的概率\n",
    "    preds[1,:]=p\n",
    "    preds[2,:]=-p.+1\n",
    "    return preds\n",
    "end\n",
    "\n",
    "function fprediction_util(circuits::Vector{QCircuit},alphas::Vector,data_set)#输出预测向量.\n",
    "    L=nitems(data_set)\n",
    "    preds=zeros(2,L)\n",
    "    for i in 1:length(circuits)\n",
    "        x=circuits[i]*data_set\n",
    "        p=real(expectation(B[1],x)) #测量第一个比特0的概率\n",
    "        preds[1,:].+=(p.*alphas[i])\n",
    "        preds[2,:].+=((-p.+1).*alphas[i])\n",
    "    end\n",
    "    return preds\n",
    "end\n",
    "\n",
    "function fprediction(circuits::Vector{QCircuit},alphas::Vector,data_set)#输出预测向量.\n",
    "    L=nitems(data_set)\n",
    "    preds=fprediction_util(circuits,alphas,data_set)./length(circuits)\n",
    "    for i in 1:L\n",
    "        preds[1,i]>0.5 && (preds[:,i]=[1.,0.])\n",
    "        preds[1,i]<0.5 && (preds[:,i]=[0.,1.])\n",
    "    end\n",
    "    return preds\n",
    "end\n",
    "function fresult(labels::Matrix,prediction::Matrix)#判断分类的对错，分类正确：+；分类错误：-\n",
    "    L=size(labels,2)\n",
    "    result=zeros(L)\n",
    "    for i in 1:L\n",
    "        if labels[:,i]!=prediction[:,i]\n",
    "            result[i]=1\n",
    "        end\n",
    "    end\n",
    "    return result\n",
    "end"
   ]
  },
  {
   "cell_type": "code",
   "execution_count": 3,
   "metadata": {},
   "outputs": [],
   "source": [
    "h1_vals = [0.1000, 0.2556, 0.4111, 0.5667, 0.7222, 0.8778, 1.0333, 1.1889, 1.3444, 1.5000]\n",
    "anti_ferro_mag_boundary = [-1.004, -1.0009, -1.024, -1.049, -1.079, -1.109, -1.154,  -1.225, -1.285, -1.35]\n",
    "para_mag_boundary = [0.8439, 0.6636, 0.5033, 0.3631, 0.2229, 0.09766, -0.02755, -0.1377, -0.2479, -0.3531];"
   ]
  },
  {
   "cell_type": "code",
   "execution_count": 4,
   "metadata": {},
   "outputs": [
    {
     "data": {
      "text/plain": [
       "10"
      ]
     },
     "metadata": {},
     "output_type": "display_data"
    }
   ],
   "source": [
    "@kwdef mutable struct Args\n",
    "    η::Float64 = 5e-3       ## learning rate\n",
    "    batchsize::Int = 40    ## batch size\n",
    "    epochs::Int = 500      ## number of epochs\n",
    "end\n",
    "global args = Args(;)\n",
    "#分类类别\n",
    "global const K=2\n",
    "global N=15\n",
    "global nlayer=2\n",
    "\n",
    "global mq=[N] #measure_qubits\n",
    "#测量算子\n",
    "UP=[1 0; 0 0]\n",
    "DOWN=[0 0; 0 1]\n",
    "const B=[QubitsTerm(mq[1]=>UP),QubitsTerm(mq[1]=>\"X\"),QubitsTerm(mq[1]=>DOWN)]\n",
    "Samples=400\n",
    "interval=0.01\n",
    "datas = readdlm(\"SPT_train_set_$(N)_$(Samples)_$(interval).csv\",',', Float64)\n",
    "labels = readdlm(\"SPT_train_label_$(N)_$(Samples)_$(interval).csv\",',')\n",
    "state=CuStateVectorBatch(CuArray(datas),N,Samples)\n",
    "C=10"
   ]
  },
  {
   "cell_type": "code",
   "execution_count": 5,
   "metadata": {},
   "outputs": [
    {
     "name": "stdout",
     "output_type": "stream",
     "text": [
      "error rate:0.21000000000000002\n"
     ]
    },
    {
     "name": "stdout",
     "output_type": "stream",
     "text": [
      "pre_acc_train:0.735\n"
     ]
    },
    {
     "name": "stdout",
     "output_type": "stream",
     "text": [
      "error rate:0.39323387582881264\n"
     ]
    },
    {
     "name": "stdout",
     "output_type": "stream",
     "text": [
      "pre_acc_train:0.89\n"
     ]
    },
    {
     "name": "stdout",
     "output_type": "stream",
     "text": [
      "error rate:0.1890536605222249\n"
     ]
    },
    {
     "name": "stdout",
     "output_type": "stream",
     "text": [
      "pre_acc_train:0.84\n"
     ]
    }
   ],
   "source": [
    "circuits = Vector{QCircuit}()\n",
    "alphas = Float64[]\n",
    "global W=ones(Samples)./Samples\n",
    "for c in 1:C\n",
    "    circuit = build_circuit_xz(N,nlayer)\n",
    "    opt=ADAM(args.η)\n",
    "    params = parameters(circuit)\n",
    "    for iter = 1:args.epochs\n",
    "        grad = gradient(x->loss_util(x,state,labels,W),circuit)[1]\n",
    "        update!(opt, params,grad)\n",
    "        reset_parameters!(circuit, params)\n",
    "    end\n",
    "    #第c个弱分类其训练完成\n",
    "    pred=fprediction([circuit],[1.],state)\n",
    "    result=fresult(labels,pred)\n",
    "    ferror=result'*W\n",
    "    if ferror == 0\n",
    "        alpha = 10\n",
    "        push!(alphas,alpha)\n",
    "        push!(circuits,circuit)\n",
    "        break\n",
    "    else\n",
    "        alpha=log((1-ferror)/ferror)\n",
    "    end\n",
    "    println(\"error rate:$(ferror)\")\n",
    "\n",
    "    #更新权重\n",
    "    W.=W.*exp.(alpha*result)\n",
    "    W./=sum(W)\n",
    "    push!(alphas,alpha)\n",
    "    push!(circuits,circuit)\n",
    "\n",
    "    #测试当前线路集性能\n",
    "    x1=fprediction(circuits,alphas,state)\n",
    "    re1=dot(x1,labels)\n",
    "    println(\"pre_acc_train:$(sum(re1)/Samples)\")\n",
    "    if 1-sum(re1)/Samples<0.05\n",
    "        break\n",
    "    end\n",
    "end"
   ]
  },
  {
   "cell_type": "code",
   "execution_count": null,
   "metadata": {},
   "outputs": [],
   "source": [
    "test_set = readdlm(\"SPT_test_set_$(N).csv\",',', Float64)"
   ]
  },
  {
   "cell_type": "code",
   "execution_count": null,
   "metadata": {},
   "outputs": [],
   "source": [
    "res_pix=zeros(64,64)\n",
    "res = zeros(64,64)\n",
    "for i in 1: 64\n",
    "    test_dm = CuStateVectorBatch(CuArray(test_set[:,(i-1)*64+1:i*64]),N,64)\n",
    "    re=fprediction(circuits,alphas,test_dm);\n",
    "    res[:,i]=re[1,:]\n",
    "end"
   ]
  },
  {
   "cell_type": "code",
   "execution_count": null,
   "metadata": {},
   "outputs": [],
   "source": [
    "heatmap(LinRange(0,1.6,64),LinRange(-1.6,1.6,64),res,c=cgrad([:yellow,:green]))\n",
    "plot!(h1_vals,[anti_ferro_mag_boundary para_mag_boundary],markershapes=:diamond,markersize=5,lw=3,linestyle=:dash,lc=[\"red\" \"blue\"],mc=:orange,fc=\"white\",legend=false,title=\"AdaBoost_$(Samples)\")\n",
    "annotate!([0.75 0.75 0.75] ,[1 -1.5 -0.5],[\"Paramagnetic\",\"Antiferromagnetic\", \"SPT\"])"
   ]
  },
  {
   "cell_type": "code",
   "execution_count": null,
   "metadata": {},
   "outputs": [],
   "source": [
    "save(\"AdaBoost_$(Samples)_$(N)q_$(nlayer)_$(interval)_3.jld2\",\"circuits\",circuits,\"res\",res)"
   ]
  }
 ],
 "metadata": {
  "kernelspec": {
   "display_name": "Julia 1.8.2",
   "language": "julia",
   "name": "julia-1.8"
  },
  "language_info": {
   "file_extension": ".jl",
   "mimetype": "application/julia",
   "name": "julia",
   "version": "1.8.2"
  },
  "orig_nbformat": 4
 },
 "nbformat": 4,
 "nbformat_minor": 2
}
